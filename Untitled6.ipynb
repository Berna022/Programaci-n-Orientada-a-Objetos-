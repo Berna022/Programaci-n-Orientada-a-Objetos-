{
  "nbformat": 4,
  "nbformat_minor": 0,
  "metadata": {
    "colab": {
      "provenance": [],
      "authorship_tag": "ABX9TyOomFATJXtY1y6/H+cX8y0K",
      "include_colab_link": true
    },
    "kernelspec": {
      "name": "python3",
      "display_name": "Python 3"
    },
    "language_info": {
      "name": "python"
    }
  },
  "cells": [
    {
      "cell_type": "markdown",
      "metadata": {
        "id": "view-in-github",
        "colab_type": "text"
      },
      "source": [
        "<a href=\"https://colab.research.google.com/github/Berna022/Programaci-n-Orientada-a-Objetos-/blob/main/Untitled6.ipynb\" target=\"_parent\"><img src=\"https://colab.research.google.com/assets/colab-badge.svg\" alt=\"Open In Colab\"/></a>"
      ]
    },
    {
      "cell_type": "markdown",
      "source": [
        "Areas de Figuras Hecho Por Bernardo Josue Martínez Ramírez el 13/02/2025"
      ],
      "metadata": {
        "id": "AQVcQgnUOGQP"
      }
    },
    {
      "cell_type": "code",
      "execution_count": 8,
      "metadata": {
        "colab": {
          "base_uri": "https://localhost:8080/"
        },
        "id": "FUo1wN2ULJfG",
        "outputId": "09bf7d0e-a70f-45be-e83e-2efdc82ffe0c"
      },
      "outputs": [
        {
          "output_type": "stream",
          "name": "stdout",
          "text": [
            "Elige una opcion:\n",
            "1 circulo\n",
            "2 trapecio\n",
            "3 reactangulo\n",
            "Opcion1\n",
            "Elige una opcion:\n",
            "1 circulo\n",
            "2 trapecio\n",
            "3 reactangulo\n",
            "Opcion1\n",
            "Escribe el radio:5\n",
            "El area del circulo es:  78.53999999999999\n"
          ]
        }
      ],
      "source": [
        "class Figuras:\n",
        "    def __init__(self):\n",
        "        self.b=0\n",
        "        self.a=0\n",
        "        self.c=0\n",
        "\n",
        "    def op(self):\n",
        "        print(\"Elige una opcion:\")\n",
        "        print(\"1 circulo\")\n",
        "        print(\"2 trapecio\")\n",
        "        print(\"3 reactangulo\")\n",
        "        r=int(input(\"Opcion\"))\n",
        "        return(r)\n",
        "\n",
        "    def circulo(self,r):\n",
        "        area=3.1416 * r**2\n",
        "        return(area)\n",
        "\n",
        "    def trapecio(self,b1,b2,h):\n",
        "        area=(b1+b2)*h/2\n",
        "        return(area)\n",
        "\n",
        "    def rectanfulo(self,b,h):\n",
        "        area=(b*h)\n",
        "        return(area)\n",
        "\n",
        "obj=Figuras()\n",
        "op=obj.op()\n",
        "s=obj.op()\n",
        "if s==1:\n",
        "  obj.a=float(input(\"Escribe el radio:\"))\n",
        "  resultado=obj.circulo(obj.a)\n",
        "  print(\"El area del circulo es: \",resultado)\n",
        "elif(s==2):\n",
        "  obj.a=float(input(\"Escribe la base mayor:\"))\n",
        "  obj.b=float(input(\"Escribe la base menor:\"))\n",
        "  obj.c=float(input(\"Escribe la altura:\"))\n",
        "  resultado=obj.trapecio(obj.a,obj.b,obj.c)\n",
        "  print(\"El area del trapecio es: \",resultado)\n",
        "elif(s==3):\n",
        "  obj.a=float(input(\"Escribe la base:\"))\n",
        "  obj.b=float(input(\"Escribe la altura:\"))\n",
        "  resultado=obj.rectanfulo(obj.a,obj.b)\n",
        "  print(\"El area del rectangulo es: \",resultado)\n",
        "\n",
        "\n",
        "\n",
        "\n",
        "\n",
        "\n",
        "\n",
        ""
      ]
    }
  ]
}