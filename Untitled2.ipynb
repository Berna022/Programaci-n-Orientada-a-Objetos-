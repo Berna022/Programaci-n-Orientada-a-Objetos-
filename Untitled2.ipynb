{
  "nbformat": 4,
  "nbformat_minor": 0,
  "metadata": {
    "colab": {
      "provenance": [],
      "authorship_tag": "ABX9TyORKfKKYFbIZjvPuj5zookX",
      "include_colab_link": true
    },
    "kernelspec": {
      "name": "python3",
      "display_name": "Python 3"
    },
    "language_info": {
      "name": "python"
    }
  },
  "cells": [
    {
      "cell_type": "markdown",
      "metadata": {
        "id": "view-in-github",
        "colab_type": "text"
      },
      "source": [
        "<a href=\"https://colab.research.google.com/github/Berna022/Programaci-n-Orientada-a-Objetos-/blob/main/Untitled2.ipynb\" target=\"_parent\"><img src=\"https://colab.research.google.com/assets/colab-badge.svg\" alt=\"Open In Colab\"/></a>"
      ]
    },
    {
      "cell_type": "markdown",
      "source": [
        "Programa Hecho por Bernardo Josué Martínez Ramírez 06/02/2025"
      ],
      "metadata": {
        "id": "9SkznVui7UK1"
      }
    },
    {
      "cell_type": "code",
      "execution_count": 18,
      "metadata": {
        "id": "FPRZnzye3ZAc"
      },
      "outputs": [],
      "source": [
        "class Saludo:\n",
        "  def __init__(self):\n",
        "    self.nombre=\"Bernardo Josué\"\n",
        "\n",
        "  def saludos(self):\n",
        "    print(\"hola\",self.nombre)"
      ]
    },
    {
      "cell_type": "code",
      "source": [
        "x=Saludo()\n",
        "x.saludos()"
      ],
      "metadata": {
        "colab": {
          "base_uri": "https://localhost:8080/"
        },
        "id": "p7VujsV-7uPP",
        "outputId": "3bc83e57-bd40-4359-8f0f-857a72a472d9"
      },
      "execution_count": 19,
      "outputs": [
        {
          "output_type": "stream",
          "name": "stdout",
          "text": [
            "hola Bernardo Josué\n"
          ]
        }
      ]
    }
  ]
}